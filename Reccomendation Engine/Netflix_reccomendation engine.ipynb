{
 "cells": [
  {
   "cell_type": "code",
   "execution_count": 1,
   "metadata": {},
   "outputs": [],
   "source": [
    "import pandas as pd\n",
    "import numpy as np\n",
    "from sklearn.feature_extraction.text import CountVectorizer\n",
    "from sklearn.metrics.pairwise import cosine_similarity\n"
   ]
  },
  {
   "cell_type": "code",
   "execution_count": 2,
   "metadata": {},
   "outputs": [],
   "source": [
    "data = pd.read_csv('netflix_titles.csv',dtype='string')"
   ]
  },
  {
   "cell_type": "code",
   "execution_count": 3,
   "metadata": {},
   "outputs": [
    {
     "data": {
      "text/plain": [
       "0         Movie\n",
       "1         Movie\n",
       "2       TV Show\n",
       "3       TV Show\n",
       "4         Movie\n",
       "         ...   \n",
       "6229    TV Show\n",
       "6230    TV Show\n",
       "6231      Movie\n",
       "6232    TV Show\n",
       "6233    TV Show\n",
       "Name: type, Length: 6234, dtype: object"
      ]
     },
     "execution_count": 3,
     "metadata": {},
     "output_type": "execute_result"
    }
   ],
   "source": [
    "data.type.astype(str)"
   ]
  },
  {
   "cell_type": "code",
   "execution_count": 4,
   "metadata": {},
   "outputs": [],
   "source": [
    "data['id'] = range(0, data.shape[0])"
   ]
  },
  {
   "cell_type": "code",
   "execution_count": 5,
   "metadata": {},
   "outputs": [],
   "source": [
    "data = data.drop(columns='show_id')"
   ]
  },
  {
   "cell_type": "code",
   "execution_count": 6,
   "metadata": {},
   "outputs": [
    {
     "name": "stdout",
     "output_type": "stream",
     "text": [
      "         type                                        title director  \\\n",
      "2     TV Show                           Transformers Prime     <NA>   \n",
      "3     TV Show             Transformers: Robots in Disguise     <NA>   \n",
      "5     TV Show                                      Apaches     <NA>   \n",
      "8     TV Show                                 Fire Chasers     <NA>   \n",
      "26    TV Show                              Castle of Stars     <NA>   \n",
      "...       ...                                          ...      ...   \n",
      "6228  TV Show                                     Kikoriki     <NA>   \n",
      "6229  TV Show                                 Red vs. Blue     <NA>   \n",
      "6230  TV Show                                        Maron     <NA>   \n",
      "6232  TV Show  A Young Doctor's Notebook and Other Stories     <NA>   \n",
      "6233  TV Show                                      Friends     <NA>   \n",
      "\n",
      "                                                   cast         country  \\\n",
      "2     Peter Cullen, Sumalee Montano, Frank Welker, J...   United States   \n",
      "3     Will Friedle, Darren Criss, Constance Zimmer, ...   United States   \n",
      "5     Alberto Ammann, Eloy Azorín, Verónica Echegui,...           Spain   \n",
      "8                                                  <NA>   United States   \n",
      "26    Chaiyapol Pupart, Jintanutda Lummakanon, Worra...            <NA>   \n",
      "...                                                 ...             ...   \n",
      "6228                                      Igor Dmitriev            <NA>   \n",
      "6229  Burnie Burns, Jason Saldaña, Gustavo Sorola, G...   United States   \n",
      "6230  Marc Maron, Judd Hirsch, Josh Brener, Nora Zeh...   United States   \n",
      "6232  Daniel Radcliffe, Jon Hamm, Adam Godley, Chris...  United Kingdom   \n",
      "6233  Jennifer Aniston, Courteney Cox, Lisa Kudrow, ...   United States   \n",
      "\n",
      "             date_added release_year    rating    duration  \\\n",
      "2     September 8, 2018         2013  TV-Y7-FV    1 Season   \n",
      "3     September 8, 2018         2016     TV-Y7    1 Season   \n",
      "5     September 8, 2017         2016     TV-MA    1 Season   \n",
      "8     September 8, 2017         2017     TV-MA    1 Season   \n",
      "26    September 7, 2018         2015     TV-14    1 Season   \n",
      "...                 ...          ...       ...         ...   \n",
      "6228               <NA>         2010      TV-Y   2 Seasons   \n",
      "6229               <NA>         2015        NR  13 Seasons   \n",
      "6230               <NA>         2016     TV-MA   4 Seasons   \n",
      "6232               <NA>         2013     TV-MA   2 Seasons   \n",
      "6233               <NA>         2003     TV-14  10 Seasons   \n",
      "\n",
      "                                              listed_in  \\\n",
      "2                                              Kids' TV   \n",
      "3                                              Kids' TV   \n",
      "5     Crime TV Shows, International TV Shows, Spanis...   \n",
      "8                       Docuseries, Science & Nature TV   \n",
      "26    International TV Shows, Romantic TV Shows, TV ...   \n",
      "...                                                 ...   \n",
      "6228                                           Kids' TV   \n",
      "6229  TV Action & Adventure, TV Comedies, TV Sci-Fi ...   \n",
      "6230                                        TV Comedies   \n",
      "6232           British TV Shows, TV Comedies, TV Dramas   \n",
      "6233                     Classic & Cult TV, TV Comedies   \n",
      "\n",
      "                                            description    id  \n",
      "2     With the help of three human allies, the Autob...     2  \n",
      "3     When a prison ship crash unleashes hundreds of...     3  \n",
      "5     A young journalist is forced into a life of cr...     5  \n",
      "8     As California's 2016 fire season rages, brave ...     8  \n",
      "26    As four couples with different lifestyles go t...    26  \n",
      "...                                                 ...   ...  \n",
      "6228  A wacky rabbit and his gang of animal pals hav...  6228  \n",
      "6229  This parody of first-person shooter games, mil...  6229  \n",
      "6230  Marc Maron stars as Marc Maron, who interviews...  6230  \n",
      "6232  Set during the Russian Revolution, this comic ...  6232  \n",
      "6233  This hit sitcom follows the merry misadventure...  6233  \n",
      "\n",
      "[1969 rows x 12 columns]\n"
     ]
    }
   ],
   "source": [
    "print(data[data['type']=='TV Show'])"
   ]
  },
  {
   "cell_type": "code",
   "execution_count": 7,
   "metadata": {},
   "outputs": [],
   "source": [
    "def new_column(data):\n",
    "    new_vals = []\n",
    "#data = data[data['type']==type]\n",
    "    for i in range(0,len(data)):\n",
    "        new_vals.append(data['title'][i]+\" \"+data['cast'][i]+\" \"+data['country'][i]+\" \"+data['listed_in'][i]+\" \"+data['description'][i])\n",
    "    return new_vals"
   ]
  },
  {
   "cell_type": "code",
   "execution_count": 8,
   "metadata": {},
   "outputs": [],
   "source": [
    "data['important_features'] = new_column(data)"
   ]
  },
  {
   "cell_type": "code",
   "execution_count": 9,
   "metadata": {},
   "outputs": [
    {
     "name": "stderr",
     "output_type": "stream",
     "text": [
      "<ipython-input-9-fe817de02171>:2: SettingWithCopyWarning: \n",
      "A value is trying to be set on a copy of a slice from a DataFrame.\n",
      "Try using .loc[row_indexer,col_indexer] = value instead\n",
      "\n",
      "See the caveats in the documentation: https://pandas.pydata.org/pandas-docs/stable/user_guide/indexing.html#returning-a-view-versus-a-copy\n",
      "  new_data['id'] = range(0,new_data.shape[0])\n"
     ]
    }
   ],
   "source": [
    "new_data = data.dropna()\n",
    "new_data['id'] = range(0,new_data.shape[0])"
   ]
  },
  {
   "cell_type": "code",
   "execution_count": 10,
   "metadata": {},
   "outputs": [
    {
     "data": {
      "text/plain": [
       "<3774x31328 sparse matrix of type '<class 'numpy.int64'>'\n",
       "\twith 167739 stored elements in Compressed Sparse Row format>"
      ]
     },
     "execution_count": 10,
     "metadata": {},
     "output_type": "execute_result"
    }
   ],
   "source": [
    "cm = CountVectorizer().fit_transform(new_data['important_features'])\n",
    "cm"
   ]
  },
  {
   "cell_type": "code",
   "execution_count": 11,
   "metadata": {},
   "outputs": [
    {
     "data": {
      "text/plain": [
       "(3774, 3774)"
      ]
     },
     "execution_count": 11,
     "metadata": {},
     "output_type": "execute_result"
    }
   ],
   "source": [
    "cs = cosine_similarity(cm)\n",
    "cs.shape"
   ]
  },
  {
   "cell_type": "code",
   "execution_count": 19,
   "metadata": {},
   "outputs": [],
   "source": [
    "my_movie = 'The Great British Baking Show'\n",
    "\n",
    "movie_id = new_data[new_data['title'] == my_movie]['id'].values[0]"
   ]
  },
  {
   "cell_type": "code",
   "execution_count": 20,
   "metadata": {},
   "outputs": [],
   "source": [
    "scores = list(enumerate(cs[movie_id]))\n",
    "sorted_scores = sorted(scores,key=lambda x:x[1],reverse=True)\n",
    "sorted_scores = sorted_scores[1:]"
   ]
  },
  {
   "cell_type": "code",
   "execution_count": 21,
   "metadata": {},
   "outputs": [
    {
     "name": "stdout",
     "output_type": "stream",
     "text": [
      "1 Planet Earth: The Complete Collection\n",
      "2 The Blue Planet: A Natural History of the Oceans\n",
      "3 James Acaster: Repertoire\n",
      "4 Spitfire: The Plane that Saved the World\n",
      "5 The Tigers of Scotland\n",
      "6 The Battle of Midway\n",
      "7 Hoff the Record\n"
     ]
    }
   ],
   "source": [
    "new_data = pd.DataFrame(new_data)\n",
    "j=0\n",
    "for item in sorted_scores:\n",
    "    movie_title = new_data[new_data['id']==item[0]]['title'].values[0]\n",
    "    print(j+1,movie_title)\n",
    "    j+=1\n",
    "    if j>6:\n",
    "        break\n",
    "\n"
   ]
  }
 ],
 "metadata": {
  "interpreter": {
   "hash": "40d3a090f54c6569ab1632332b64b2c03c39dcf918b08424e98f38b5ae0af88f"
  },
  "kernelspec": {
   "display_name": "Python 3.8.3 64-bit ('base': conda)",
   "language": "python",
   "name": "python3"
  },
  "language_info": {
   "codemirror_mode": {
    "name": "ipython",
    "version": 3
   },
   "file_extension": ".py",
   "mimetype": "text/x-python",
   "name": "python",
   "nbconvert_exporter": "python",
   "pygments_lexer": "ipython3",
   "version": "3.8.3"
  },
  "orig_nbformat": 4
 },
 "nbformat": 4,
 "nbformat_minor": 2
}
